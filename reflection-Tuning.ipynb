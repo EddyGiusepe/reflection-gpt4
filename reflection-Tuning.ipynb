{
 "cells": [
  {
   "cell_type": "markdown",
   "metadata": {},
   "source": [
    "# <h1 align=\"center\"><font color=\"gree\">Improving Instruction-Data Via Reflection-Tuning Using GPT-4</font></h1>"
   ]
  },
  {
   "cell_type": "markdown",
   "metadata": {},
   "source": [
    "<font color=\"pink\">Senior Data Scientist.: Dr. Eddy Giusepe Chirinos Isidro</font>"
   ]
  },
  {
   "cell_type": "markdown",
   "metadata": {},
   "source": [
    "Este Notebook usa a `API GPT-4` da `OpenAI` para implementar o processo de refinamento do conjunto de dados do artigo [Reflection-Tuning: Data Recycling Improves LLM Instruction-Tuning](https://arxiv.org/pdf/2310.11716).\n",
    "\n",
    "Este estudo foi baseado no tutorial do [Dr. Sebastian Raschka]()."
   ]
  },
  {
   "cell_type": "markdown",
   "metadata": {},
   "source": [
    "![](https://camo.githubusercontent.com/8577304d0568ac398ea62537100abd0f0d5e65890af92fa05440ef541bf49192/68747470733a2f2f73656261737469616e72617363686b612e636f6d2f696d616765732f4c4c4d732d66726f6d2d736372617463682d696d616765732f626f6e75732f7265666c656374696f6e2d74756e696e672f7265666c656374696f6e2d74756e696e672e77656270)"
   ]
  },
  {
   "cell_type": "markdown",
   "metadata": {},
   "source": [
    "* No artigo original, os pesquisadores refinaram os conjuntos de dados `instruction-finetuning` [Alpaca](https://huggingface.co/datasets/tatsu-lab/alpaca) e [WizardLM](https://huggingface.co/datasets/WizardLMTeam/WizardLM_evol_instruct_70k); neste Notebook, refinamos o [conjunto de dados de instruções usado no capítulo 7](https://github.com/rasbt/LLMs-from-scratch/blob/main/ch07/01_main-chapter-code/instruction-data.json) (no entanto, como ele tem o mesmo formato que o `Alpaca`, o mesmo código funciona com o conjunto de dados `Alpaca` também)\n",
    "\n",
    "* O formato esperado do conjunto de dados é o seguinte:\n",
    "\n",
    "```\n",
    "{\n",
    "        \"instruction\": \"Edit the following sentence for grammar.\",\n",
    "        \"input\": \"He go to the park every day.\",\n",
    "        \"output\": \"He goes to the park every day.\"\n",
    "    },\n",
    "    {\n",
    "        \"instruction\": \"Convert 45 kilometers to meters.\",\n",
    "        \"input\": \"\",\n",
    "        \"output\": \"45 kilometers is 45000 meters.\"\n",
    "    },\n",
    "```"
   ]
  },
  {
   "cell_type": "code",
   "execution_count": 2,
   "metadata": {},
   "outputs": [
    {
     "name": "stdout",
     "output_type": "stream",
     "text": [
      "openai version: 1.44.1\n",
      "tqdm version: 4.66.5\n"
     ]
    }
   ],
   "source": [
    "from importlib.metadata import version\n",
    "\n",
    "pkgs = [\n",
    "    \"openai\",  # OpenAI API\n",
    "    \"tqdm\",    # Progress bar\n",
    "]\n",
    "\n",
    "for p in pkgs:\n",
    "    print(f\"{p} version: {version(p)}\")"
   ]
  },
  {
   "cell_type": "code",
   "execution_count": 3,
   "metadata": {},
   "outputs": [],
   "source": [
    "from dotenv import load_dotenv, find_dotenv\n",
    "_ = load_dotenv(find_dotenv()) # read local .env file\n",
    "\n",
    "\n",
    "from openai import OpenAI\n",
    "client = OpenAI()"
   ]
  },
  {
   "cell_type": "markdown",
   "metadata": {},
   "source": [
    "Primeiro, vamos testar a API com um exemplo simples para garantir que ela funcione conforme o esperado:"
   ]
  },
  {
   "cell_type": "code",
   "execution_count": 4,
   "metadata": {},
   "outputs": [
    {
     "data": {
      "text/plain": [
       "'Olá mundo!'"
      ]
     },
     "execution_count": 4,
     "metadata": {},
     "output_type": "execute_result"
    }
   ],
   "source": [
    "def run_chatgpt(prompt, client, model=\"gpt-4o-mini\", system_prompt=None):\n",
    "    # Define the system message if a system_prompt is provided:\n",
    "    messages = []\n",
    "    \n",
    "    if system_prompt:\n",
    "        messages.append({\"role\": \"system\", \"content\": system_prompt})\n",
    "    \n",
    "    # Add the user prompt to the messages:\n",
    "    messages.append({\"role\": \"user\", \"content\": prompt})\n",
    "\n",
    "    # Call the API:\n",
    "    response = client.chat.completions.create(\n",
    "        model=model,\n",
    "        messages=messages,\n",
    "        temperature=0.0,\n",
    "        seed=123,\n",
    "    )\n",
    "    \n",
    "    # Return the model's response:\n",
    "    return response.choices[0].message.content\n",
    "\n",
    "\n",
    "prompt = f\"Responda com 'olá mundo' se você recebeu esta mensagem.\"\n",
    "run_chatgpt(prompt, client)\n"
   ]
  },
  {
   "cell_type": "markdown",
   "metadata": {},
   "source": [
    "# <font color=\"red\">Carregar entradas JSON</font>"
   ]
  },
  {
   "cell_type": "markdown",
   "metadata": {},
   "source": [
    "* Em seguida, vamos carregar e processar o conjunto de dados de instruções\n",
    "\n",
    "* Aqui, assumimos que salvamos o conjunto de dados de teste e as respostas do modelo como um arquivo `JSON` que podemos carregar da seguinte forma:"
   ]
  },
  {
   "cell_type": "code",
   "execution_count": 6,
   "metadata": {},
   "outputs": [
    {
     "name": "stdout",
     "output_type": "stream",
     "text": [
      "Number of entries: 1100\n"
     ]
    }
   ],
   "source": [
    "from pathlib import Path\n",
    "import json\n",
    "\n",
    "\n",
    "json_file = Path(\".\") / \"01_main-chapter-code\" / \"instruction-data.json\"\n",
    "\n",
    "with open(json_file, \"r\") as file:\n",
    "    json_data = json.load(file)\n",
    "\n",
    "print(\"Number of entries:\", len(json_data))"
   ]
  },
  {
   "cell_type": "markdown",
   "metadata": {},
   "source": [
    "Vamos imprimir uma das entradas do conjunto de dados para ver sua estrutura:"
   ]
  },
  {
   "cell_type": "code",
   "execution_count": 7,
   "metadata": {},
   "outputs": [
    {
     "name": "stdout",
     "output_type": "stream",
     "text": [
      "{'instruction': 'Evaluate the following phrase by transforming it into the '\n",
      "                'spelling given.',\n",
      " 'input': 'freind --> friend',\n",
      " 'output': 'The spelling of the given phrase \"freind\" is incorrect, the '\n",
      "           'correct spelling is \"friend\".'}\n"
     ]
    }
   ],
   "source": [
    "from pprint import pp as pprint\n",
    "\n",
    "pprint(json_data[0])"
   ]
  },
  {
   "cell_type": "markdown",
   "metadata": {},
   "source": [
    "# <font color=\"red\">Melhore as instruções</font>"
   ]
  },
  {
   "cell_type": "markdown",
   "metadata": {},
   "source": [
    "* Os autores do `Reflection-Tuning` compartilharam duas abordagens: `(1)` melhorar as instruções e `(2)` melhorar as respostas\n",
    "\n",
    "* Vamos começar melhorando as instruções em um determinado conjunto de dados\n",
    "\n",
    "* Abaixo está uma pequena função de utilidade do [repositório Reflection-Tuning](https://github.com/tianyi-lab/Reflection_Tuning/blob/main/reflection_code/reflect_response.py) para formatar as entradas para o modelo `GPT-4` para este refinamento do conjunto de dados"
   ]
  },
  {
   "cell_type": "code",
   "execution_count": 8,
   "metadata": {},
   "outputs": [],
   "source": [
    "def instr_prompt_no_input(ins, outp):\n",
    "\n",
    "    sys_prompt = \"You are a helpful, precise but picky assistant for checking the quality of a given instruction.\"\n",
    "\n",
    "    prompt_template = \"[Instruction]\\n{ins}\\n\\n[The Start of Answer]\\n{outp}\\n\\n[The End of Answer]\\n\\n[System]\\n{criteria}\\n\\n\"\n",
    "    \n",
    "    criteria = \"We would like you to answer several questions related to the quality of a given instruction. \\n\" + \\\n",
    "                \"1. Why this instruction is not good? First analyse the instruction based on Complexity of the Topic, Level of Detail Required, Knowledge Required, Ambiguity of the Instruction and Logical Reasoning or Problem-Solving Involved. \\n\" + \\\n",
    "                \"Then analyse why this answer is not good for the given instruction? Analyse based on the Helpfulness, Relevance, Accuracy and Level of Details. \\n\" + \\\n",
    "                \"Finally analyse why this bad instruction lead to a bad answer. \" +\\\n",
    "                \"2. Based on the reason you provided, generate a new and complete instruction which is complex and difficult to answer directly. \" + \\\n",
    "                \"Make sure the new instruction is relevent but independent to the original instruction, which can be answered without knowing the original instruction, put the new instruction in the format of [New Instruction] your instruction [End]\" +\\\n",
    "                \"3. Answer the newly generated instruction as detailed as possible, in the format of [New Answer] your answer [End] \\n\"\n",
    "    \n",
    "    prompt = prompt_template.format(ins=ins, outp=outp, criteria=criteria)\n",
    "    \n",
    "    return sys_prompt, prompt\n"
   ]
  },
  {
   "cell_type": "markdown",
   "metadata": {},
   "source": [
    "Para ver como funciona, considere a entrada do conjunto de dados, `json_data[2]`"
   ]
  },
  {
   "cell_type": "code",
   "execution_count": 10,
   "metadata": {},
   "outputs": [
    {
     "name": "stdout",
     "output_type": "stream",
     "text": [
      "{'instruction': 'Convert 45 kilometers to meters.',\n",
      " 'input': '',\n",
      " 'output': '45 kilometers is 45000 meters.'}\n"
     ]
    }
   ],
   "source": [
    "pprint(json_data[2])"
   ]
  },
  {
   "cell_type": "markdown",
   "metadata": {},
   "source": [
    "Podemos refinar a instrução da seguinte forma, usando a função `instr_prompt_no_input` definida acima:"
   ]
  },
  {
   "cell_type": "code",
   "execution_count": 11,
   "metadata": {},
   "outputs": [],
   "source": [
    "entry = json_data[2]\n",
    "\n",
    "system_prompt, prompt = instr_prompt_no_input(ins=entry[\"instruction\"], outp=entry[\"output\"])\n"
   ]
  },
  {
   "cell_type": "code",
   "execution_count": 12,
   "metadata": {},
   "outputs": [
    {
     "data": {
      "text/plain": [
       "'You are a helpful, precise but picky assistant for checking the quality of a given instruction.'"
      ]
     },
     "execution_count": 12,
     "metadata": {},
     "output_type": "execute_result"
    }
   ],
   "source": [
    "system_prompt"
   ]
  },
  {
   "cell_type": "code",
   "execution_count": 14,
   "metadata": {},
   "outputs": [
    {
     "name": "stdout",
     "output_type": "stream",
     "text": [
      "('[Instruction]\\n'\n",
      " 'Convert 45 kilometers to meters.\\n'\n",
      " '\\n'\n",
      " '[The Start of Answer]\\n'\n",
      " '45 kilometers is 45000 meters.\\n'\n",
      " '\\n'\n",
      " '[The End of Answer]\\n'\n",
      " '\\n'\n",
      " '[System]\\n'\n",
      " 'We would like you to answer several questions related to the quality of a '\n",
      " 'given instruction. \\n'\n",
      " '1. Why this instruction is not good? First analyse the instruction based on '\n",
      " 'Complexity of the Topic, Level of Detail Required, Knowledge Required, '\n",
      " 'Ambiguity of the Instruction and Logical Reasoning or Problem-Solving '\n",
      " 'Involved. \\n'\n",
      " 'Then analyse why this answer is not good for the given instruction? Analyse '\n",
      " 'based on the Helpfulness, Relevance, Accuracy and Level of Details. \\n'\n",
      " 'Finally analyse why this bad instruction lead to a bad answer. 2. Based on '\n",
      " 'the reason you provided, generate a new and complete instruction which is '\n",
      " 'complex and difficult to answer directly. Make sure the new instruction is '\n",
      " 'relevent but independent to the original instruction, which can be answered '\n",
      " 'without knowing the original instruction, put the new instruction in the '\n",
      " 'format of [New Instruction] your instruction [End]3. Answer the newly '\n",
      " 'generated instruction as detailed as possible, in the format of [New Answer] '\n",
      " 'your answer [End] \\n'\n",
      " '\\n'\n",
      " '\\n')\n"
     ]
    }
   ],
   "source": [
    "pprint(prompt)"
   ]
  },
  {
   "cell_type": "code",
   "execution_count": 18,
   "metadata": {},
   "outputs": [
    {
     "name": "stdout",
     "output_type": "stream",
     "text": [
      "1. **Analysis of the Instruction:**\n",
      "\n",
      "   - **Complexity of the Topic:** The topic of converting kilometers to meters is relatively simple and straightforward, as it involves basic unit conversion.\n",
      "   - **Level of Detail Required:** The instruction lacks detail regarding the context or purpose of the conversion. It does not specify if the conversion is for a specific application or if additional information is needed.\n",
      "   - **Knowledge Required:** Basic knowledge of metric units and their conversions is required, which is common knowledge.\n",
      "   - **Ambiguity of the Instruction:** The instruction is clear in its request; however, it does not provide any context that could enhance understanding or relevance.\n",
      "   - **Logical Reasoning or Problem-Solving Involved:** There is minimal logical reasoning involved, as the conversion is a direct calculation.\n",
      "\n",
      "   **Analysis of the Answer:**\n",
      "\n",
      "   - **Helpfulness:** The answer is helpful in that it provides the correct conversion, but it lacks any explanation or context that could aid understanding.\n",
      "   - **Relevance:** The answer is relevant to the instruction, as it directly addresses the conversion requested.\n",
      "   - **Accuracy:** The answer is accurate; 45 kilometers does indeed equal 45,000 meters.\n",
      "   - **Level of Details:** The answer is lacking in detail. It does not explain the conversion process or provide any additional information that could be beneficial.\n",
      "\n",
      "   **Why the Bad Instruction Led to a Bad Answer:** The instruction's simplicity and lack of context led to a straightforward answer that, while correct, did not provide any additional value or insight. The absence of detail in the instruction resulted in an answer that was equally devoid of depth.\n",
      "\n",
      "2. **New Instruction:**\n",
      "   [New Instruction] \n",
      "   Explain the significance of converting kilometers to meters in the context of scientific research, and provide an example of a scenario where this conversion is critical. Include any relevant formulas or calculations that may be necessary for understanding the conversion process and its implications in real-world applications. \n",
      "   [End]\n",
      "\n",
      "3. **New Answer:**\n",
      "   [New Answer] \n",
      "   Converting kilometers to meters is significant in scientific research because precise measurements are crucial for data accuracy and consistency. In many scientific fields, such as physics, environmental science, and engineering, measurements are often required in standard units, which are typically in meters. \n",
      "\n",
      "   For example, consider a scenario in environmental science where researchers are studying the impact of a pollutant that spreads over a distance of 5 kilometers from a source. To calculate the area affected by the pollutant, researchers need to convert the distance into meters for consistency with other measurements, such as area (which is often measured in square meters).\n",
      "\n",
      "   The conversion process is straightforward: \n",
      "   - 1 kilometer = 1,000 meters.\n",
      "   - Therefore, to convert 5 kilometers to meters, you multiply by 1,000:\n",
      "     \\[\n",
      "     5 \\text{ km} \\times 1,000 \\text{ m/km} = 5,000 \\text{ m}\n",
      "     \\]\n",
      "\n",
      "   In this case, understanding the conversion is critical because if the researchers were to use kilometers in their calculations for area (which is in square meters), it would lead to significant errors in their data analysis and conclusions. Thus, ensuring all measurements are in the same unit is essential for accurate scientific research and reporting. \n",
      "   [End]\n"
     ]
    }
   ],
   "source": [
    "output = run_chatgpt(prompt=prompt, client=client, system_prompt=system_prompt)\n",
    "\n",
    "print(output)"
   ]
  },
  {
   "cell_type": "markdown",
   "metadata": {},
   "source": [
    "* A resposta é muito detalhada, o que é útil para fins de análise; também, ajuda o modelo `GPT-4` a fazer melhorias por meio da abordagem de solicitação de cadeia de pensamento (`Chain-of-Thought Prompting`)\n",
    "\n",
    "* No entanto, para construir o conjunto de dados aprimorado, estamos realmente interessados ​​apenas em novas instruções e saídas, não nas análises\n",
    "\n",
    "* Podemos usar o seguinte código utilitário do [repositório Reflection-Tuning](https://github.com/tianyi-lab/Reflection_Tuning/blob/main/reflection_code/reflect_response.py) para extrair as instruções e saídas aprimoradas do modelo"
   ]
  },
  {
   "cell_type": "code",
   "execution_count": 19,
   "metadata": {},
   "outputs": [],
   "source": [
    "import re\n",
    "\n",
    "def extract_ins(text, no_input=True):\n",
    "    if '[New Instruction]' in text:\n",
    "        pattern = r'(\\[New Instruction\\])(.*?)(\\[End\\]|\\[New Answer\\]|New Answer:)'\n",
    "    else:\n",
    "        pattern = r'(New Instruction:)(.*?)(\\[End\\]|\\[New Answer\\]|New Answer:)'\n",
    "    segments = re.findall(pattern, text, re.DOTALL)\n",
    "    if len(segments) == 0:\n",
    "        seg_ins = ''\n",
    "    else:\n",
    "        seg_ins = segments[0][1].strip()\n",
    "    if seg_ins.endswith(\"\\n\\n3.\"):\n",
    "        seg_ins = seg_ins[:-4]\n",
    "    return seg_ins\n",
    "\n",
    "\n",
    "def extract_oup(text, no_input=True):\n",
    "    if '[New Answer]' in text:\n",
    "        pattern = r'(\\[New Answer\\])(.*?)(\\[End\\]|$)'\n",
    "    else:\n",
    "        pattern = r'(New Answer:)(.*?)(\\[End\\]|$)'\n",
    "        # pattern = r'(\\[New Answer\\]|New Answer:)(.*?)(\\[End\\]|$)'\n",
    "    segments = re.findall(pattern, text, re.DOTALL)\n",
    "    if len(segments) == 0:\n",
    "        seg_oup = ''\n",
    "    else:\n",
    "        seg_oup = segments[0][1].strip()\n",
    "    return seg_oup\n",
    "\n",
    "\n",
    "def extract_instruction(text):\n",
    "    if text == '':\n",
    "        return []\n",
    "    seg_ins = extract_ins(text, no_input=True)\n",
    "    seg_oup = extract_oup(text, no_input=True)\n",
    "    return [seg_ins, seg_oup]\n"
   ]
  },
  {
   "cell_type": "markdown",
   "metadata": {},
   "source": [
    "Vamos usar essas funções utilitárias (`utility`) para extrair a instrução e a resposta aprimoradas da longa saída `GPT-4` gerada anteriormente:"
   ]
  },
  {
   "cell_type": "code",
   "execution_count": 20,
   "metadata": {},
   "outputs": [],
   "source": [
    "new_instr, new_outp = extract_instruction(output)"
   ]
  },
  {
   "cell_type": "code",
   "execution_count": 28,
   "metadata": {},
   "outputs": [
    {
     "name": "stdout",
     "output_type": "stream",
     "text": [
      "Explain the significance of converting kilometers to meters in the context of scientific research,\n",
      "and provide an example of a scenario where this conversion is critical. Include any relevant\n",
      "formulas or calculations that may be necessary for understanding the conversion process and its\n",
      "implications in real-world applications.\n"
     ]
    }
   ],
   "source": [
    "import textwrap\n",
    "\n",
    "print(textwrap.fill(new_instr, width=100))"
   ]
  },
  {
   "cell_type": "code",
   "execution_count": 29,
   "metadata": {},
   "outputs": [
    {
     "name": "stdout",
     "output_type": "stream",
     "text": [
      "Converting kilometers to meters is significant in scientific research because precise measurements\n",
      "are crucial for data accuracy and consistency. In many scientific fields, such as physics,\n",
      "environmental science, and engineering, measurements are often required in standard units, which are\n",
      "typically in meters.      For example, consider a scenario in environmental science where\n",
      "researchers are studying the impact of a pollutant that spreads over a distance of 5 kilometers from\n",
      "a source. To calculate the area affected by the pollutant, researchers need to convert the distance\n",
      "into meters for consistency with other measurements, such as area (which is often measured in square\n",
      "meters).     The conversion process is straightforward:     - 1 kilometer = 1,000 meters.    -\n",
      "Therefore, to convert 5 kilometers to meters, you multiply by 1,000:      \\[      5 \\text{ km}\n",
      "\\times 1,000 \\text{ m/km} = 5,000 \\text{ m}      \\]     In this case, understanding the conversion\n",
      "is critical because if the researchers were to use kilometers in their calculations for area (which\n",
      "is in square meters), it would lead to significant errors in their data analysis and conclusions.\n",
      "Thus, ensuring all measurements are in the same unit is essential for accurate scientific research\n",
      "and reporting.\n"
     ]
    }
   ],
   "source": [
    "print(textwrap.fill(new_outp, width=100))"
   ]
  },
  {
   "cell_type": "markdown",
   "metadata": {},
   "source": [
    "<font color=\"orange\">Observe que o `refinamento de instruções` (instruction-refinement) é atualmente implementado apenas para entradas de conjuntos de dados que não têm um campo de \"entrada\" (`input`)</font>"
   ]
  },
  {
   "cell_type": "markdown",
   "metadata": {},
   "source": [
    "# <font color=\"red\">Melhore as respostas</font>"
   ]
  },
  {
   "cell_type": "markdown",
   "metadata": {},
   "source": [
    "* De forma semelhante, também podemos aplicar o processo de `refinamento do Reflection-Tuning` especificamente às respostas do conjunto de dados (ou seja, campos de `\"saída\"`).\n",
    "\n",
    "* Abaixo estão duas pequenas funções de utilidade do [repositório Reflection-Tuning](https://github.com/tianyi-lab/Reflection_Tuning/blob/main/reflection_code/reflect_response.py) para formatar as entradas para o modelo GPT-4 para refinamento do conjunto de dados."
   ]
  },
  {
   "cell_type": "code",
   "execution_count": 30,
   "metadata": {},
   "outputs": [],
   "source": [
    "def res_gen_prompt_no_input(ins, outp):\n",
    "\n",
    "    sys_prompt = \"You are a helpful, precise but picky assistant for checking the quality of the answer to a given instruction.\"\n",
    "    prompt_template = \"[Instruction]\\n{ins}\\n\\n[The Start of Answer]\\n{outp}\\n\\n[The End of Answer]\\n\\n[System]\\n{criteria}\\n\\n\"\n",
    "    criteria = \"We would like you to answer several questions related to the quality of the answer to the given instruction. \\n\" + \\\n",
    "                \"1. Why this answer is not good for the given instruction? Analyse based on the Helpfulness, Relevance, Accuracy and Level of Details. \\n\" + \\\n",
    "                \"2. Based on the reason you provided, generate a better answer, new and complete, as detailed as possible, in the format of [Better Answer] your answer [End] \\n\" \n",
    "    prompt = prompt_template.format(\n",
    "        ins=ins, outp=outp, criteria=criteria\n",
    "    )\n",
    "    return sys_prompt, prompt\n",
    "\n",
    "\n",
    "def res_gen_prompt_input(ins, inp, outp):\n",
    "\n",
    "    sys_prompt = \"You are a helpful and precise assistant for checking the quality of the answer to a given instruction and its input.\"\n",
    "    prompt_template = \"[Instruction]\\n{ins}\\n\\n[The Start of Input]\\n{inp}\\n\\n[The End of Input]\\n\\n[The Start of Answer]\\n{outp}\\n\\n[The End of Answer]\\n\\n[System]\\n{criteria}\\n\\n\"\n",
    "    criteria = \"We would like you to answer several questions related to the quality of the answer to the given instruction and corresponding input. \\n\" + \\\n",
    "                \"1. Why this answer is not good for the given instruction and corresponding input? Analyse based on the Helpfulness, Relevance, Accuracy and Level of Details. \\n\" + \\\n",
    "                \"2. Based on the reason you provided, generate a better answer, new and complete, as detailed as possible, in the format of [Better Answer] your answer [End] \\n\" \n",
    "    prompt = prompt_template.format(\n",
    "        ins=ins, inp=inp, outp=outp, criteria=criteria\n",
    "    )\n",
    "    return sys_prompt, prompt\n"
   ]
  },
  {
   "cell_type": "markdown",
   "metadata": {},
   "source": [
    "Novamente, vamos aplicá-lo a uma das entradas do conjunto de dados para ver como funciona, gerando a resposta melhorada:"
   ]
  },
  {
   "cell_type": "code",
   "execution_count": 31,
   "metadata": {},
   "outputs": [
    {
     "name": "stdout",
     "output_type": "stream",
     "text": [
      "1. The answer provided is not good for the given instruction for several reasons:\n",
      "\n",
      "- **Helpfulness**: While the answer does provide the correct conversion, it lacks any explanation or context. A more helpful answer would include a brief explanation of the conversion process or the relationship between kilometers and meters.\n",
      "\n",
      "- **Relevance**: The answer is relevant in that it addresses the instruction to convert kilometers to meters, but it could be more engaging by providing additional information, such as the conversion factor.\n",
      "\n",
      "- **Accuracy**: The answer is accurate in terms of the numerical conversion (45 kilometers equals 45000 meters). However, it does not clarify how this conversion was reached, which is important for understanding.\n",
      "\n",
      "- **Level of Details**: The answer is very brief and lacks detail. It does not explain the conversion factor (1 kilometer = 1000 meters) or provide any context for why someone might need to know this conversion.\n",
      "\n",
      "2. [Better Answer] To convert kilometers to meters, you can use the conversion factor that 1 kilometer is equal to 1000 meters. Therefore, to convert 45 kilometers to meters, you multiply 45 by 1000. \n",
      "\n",
      "So, 45 kilometers is equal to 45 x 1000 = 45000 meters. \n",
      "\n",
      "This means that 45 kilometers is the same distance as 45000 meters. Understanding this conversion is useful in various contexts, such as travel, sports, and scientific measurements. [End]\n"
     ]
    }
   ],
   "source": [
    "entry = json_data[2]\n",
    "\n",
    "system_prompt, prompt = res_gen_prompt_no_input(ins=entry[\"instruction\"], outp=entry[\"output\"])\n",
    "\n",
    "output = run_chatgpt(prompt=prompt, client=client, system_prompt=system_prompt)\n",
    "\n",
    "print(output)"
   ]
  },
  {
   "cell_type": "markdown",
   "metadata": {},
   "source": [
    "Como podemos ver acima, a resposta inclui uma análise da resposta original; podemos extrair a nova resposta usando a seguinte função utilitária do [repositório Reflection-Tuning](https://github.com/tianyi-lab/Reflection_Tuning/blob/main/reflection_code/reflect_response.py)"
   ]
  },
  {
   "cell_type": "code",
   "execution_count": 32,
   "metadata": {},
   "outputs": [],
   "source": [
    "def extract_response(text):\n",
    "    if text.count('[Better Answer]') >= 2:\n",
    "        pattern = r'\\[(Better Answer)\\](.*?)(\\[End\\]|\\[Better Answer\\]|$)'\n",
    "        segments = re.findall(pattern, text, re.DOTALL)\n",
    "    else:\n",
    "        # pattern = r'\\[(Better Answer)\\](.*?)\\[End\\]'\n",
    "        pattern = r'\\[(Better Answer)\\](.*?)(\\[End\\]|End|$)'\n",
    "        segments = re.findall(pattern, text, re.DOTALL)\n",
    "    return [segment[1].strip() for segment in segments]\n"
   ]
  },
  {
   "cell_type": "code",
   "execution_count": 33,
   "metadata": {},
   "outputs": [
    {
     "name": "stdout",
     "output_type": "stream",
     "text": [
      "To convert kilometers to meters, you can use the conversion factor that 1 kilometer is equal to 1000 meters. Therefore, to convert 45 kilometers to meters, you multiply 45 by 1000. \n",
      "\n",
      "So, 45 kilometers is equal to 45 x 1000 = 45000 meters. \n",
      "\n",
      "This means that 45 kilometers is the same distance as 45000 meters. Understanding this conversion is useful in various contexts, such as travel, sports, and scientific measurements.\n"
     ]
    }
   ],
   "source": [
    "response = extract_response(output)[0]\n",
    "\n",
    "print(response)"
   ]
  },
  {
   "cell_type": "markdown",
   "metadata": {},
   "source": [
    "# <font color=\"red\">Melhorando o conjunto de dados</font>"
   ]
  },
  {
   "cell_type": "markdown",
   "metadata": {},
   "source": [
    "* Agora, vamos aplicar as técnicas de `instruction-reflection` e `response-reflection` ao conjunto de dados real\n",
    "\n",
    "* `Observação`: aplicamos apenas a um pequeno subconjunto de dados aqui para fins de demonstração; para aplicá-lo a todo o conjunto de dados, altere\n",
    "\n",
    "```data_to_process = json_data[:3]```\n",
    "\n",
    "para\n",
    "\n",
    "```data_to_process = json_data```\n"
   ]
  },
  {
   "cell_type": "markdown",
   "metadata": {},
   "source": [
    "# <font color=\"red\">Instruções de reflexão</font>"
   ]
  },
  {
   "cell_type": "markdown",
   "metadata": {},
   "source": [
    "O código a seguir aplica a metodologia de ajuste de reflexão para refinamento do conjunto de dados às instruções no conjunto de dados original"
   ]
  },
  {
   "cell_type": "code",
   "execution_count": 34,
   "metadata": {},
   "outputs": [],
   "source": [
    "data_to_process = json_data[:3]"
   ]
  },
  {
   "cell_type": "code",
   "execution_count": 35,
   "metadata": {},
   "outputs": [],
   "source": [
    "from tqdm import tqdm\n",
    "\n",
    "\n",
    "def reflect_instructions(json_data, client):\n",
    "    new_json_data = [] \n",
    "    \n",
    "    for entry in tqdm(json_data):\n",
    "        \n",
    "        if not entry[\"input\"]:\n",
    "            system_prompt, prompt = instr_prompt_no_input(ins=entry[\"instruction\"], outp=entry[\"output\"])\n",
    "            output = run_chatgpt(prompt=prompt, client=client, system_prompt=system_prompt)\n",
    "            new_instr, new_outp = extract_instruction(output)\n",
    "            new_entry = {\"instruction\": new_instr, \"input\": \"\", \"output\": new_outp}\n",
    "            new_json_data.append(new_entry)\n",
    "        else:\n",
    "            new_json_data.append(entry)\n",
    "\n",
    "    return new_json_data\n"
   ]
  },
  {
   "cell_type": "code",
   "execution_count": 36,
   "metadata": {},
   "outputs": [
    {
     "name": "stderr",
     "output_type": "stream",
     "text": [
      "100%|██████████| 3/3 [00:04<00:00,  1.48s/it]\n"
     ]
    }
   ],
   "source": [
    "data_to_process = json_data[:3]\n",
    "\n",
    "new_json_data = reflect_instructions(data_to_process, client)"
   ]
  },
  {
   "cell_type": "code",
   "execution_count": 37,
   "metadata": {},
   "outputs": [
    {
     "name": "stdout",
     "output_type": "stream",
     "text": [
      "{'instruction': 'Evaluate the following phrase by transforming it into the '\n",
      "                'spelling given.',\n",
      " 'input': 'freind --> friend',\n",
      " 'output': 'The spelling of the given phrase \"freind\" is incorrect, the '\n",
      "           'correct spelling is \"friend\".'}\n",
      "\n",
      "\n",
      "\n",
      "{'instruction': 'Edit the following sentence for grammar.',\n",
      " 'input': 'He go to the park every day.',\n",
      " 'output': 'He goes to the park every day.'}\n",
      "\n",
      "\n",
      "\n",
      "{'instruction': 'Explain the significance of unit conversions in scientific '\n",
      "                'research, and provide a detailed example of how converting '\n",
      "                'kilometers to meters can impact data interpretation in a '\n",
      "                'hypothetical study on animal migration patterns. Include the '\n",
      "                'conversion process and discuss potential errors that could '\n",
      "                'arise from incorrect conversions.',\n",
      " 'input': '',\n",
      " 'output': 'Unit conversions are crucial in scientific research as they ensure '\n",
      "           'that data is accurately interpreted and compared across different '\n",
      "           'studies and disciplines. Inconsistent units can lead to '\n",
      "           'significant errors in data analysis, potentially skewing results '\n",
      "           'and conclusions.\\n'\n",
      "           '\\n'\n",
      "           '   For example, consider a hypothetical study on animal migration '\n",
      "           'patterns where researchers track the distance traveled by a '\n",
      "           'species over a migration season. If the distance is recorded in '\n",
      "           'kilometers, but the analysis is conducted in meters, a failure to '\n",
      "           'convert these units correctly could lead to misinterpretation of '\n",
      "           'the data.\\n'\n",
      "           '\\n'\n",
      "           \"   Let's say researchers find that a particular species migrates \"\n",
      "           '45 kilometers. To convert this distance into meters, we use the '\n",
      "           'conversion factor that 1 kilometer equals 1,000 meters. Therefore, '\n",
      "           'the conversion process is as follows:\\n'\n",
      "           '\\n'\n",
      "           '   \\\\[\\n'\n",
      "           '   45 \\\\text{ kilometers} \\\\times 1,000 \\\\text{ meters/kilometer} '\n",
      "           '= 45,000 \\\\text{ meters}\\n'\n",
      "           '   \\\\]\\n'\n",
      "           '\\n'\n",
      "           '   If the researchers mistakenly interpret the distance as 45 '\n",
      "           'meters instead of 45,000 meters, they would underestimate the '\n",
      "           'migration distance by a factor of 1,000. This could lead to '\n",
      "           \"incorrect conclusions about the species' behavior, habitat needs, \"\n",
      "           'and conservation strategies.\\n'\n",
      "           '\\n'\n",
      "           '   Potential errors from incorrect conversions can include '\n",
      "           'miscalculating the energy expenditure of the animals during '\n",
      "           'migration, underestimating the habitat range required for '\n",
      "           'survival, and failing to recognize critical migration corridors. '\n",
      "           'Therefore, accurate unit conversions are essential for reliable '\n",
      "           'scientific outcomes and effective decision-making in conservation '\n",
      "           'efforts.'}\n",
      "\n",
      "\n",
      "\n"
     ]
    }
   ],
   "source": [
    "for i in new_json_data[:3]:\n",
    "    pprint(i)\n",
    "    print(\"\\n\\n\")"
   ]
  },
  {
   "cell_type": "markdown",
   "metadata": {},
   "source": [
    "Vamos salvar o novo conjunto de dados:"
   ]
  },
  {
   "cell_type": "code",
   "execution_count": 38,
   "metadata": {},
   "outputs": [],
   "source": [
    "with open(\"instruction-reflected.json\", \"w\") as file:\n",
    "    json.dump(new_json_data, file, indent=4)"
   ]
  },
  {
   "cell_type": "markdown",
   "metadata": {},
   "source": [
    "# <font color=\"red\">Refletir respostas</font>"
   ]
  },
  {
   "cell_type": "markdown",
   "metadata": {},
   "source": [
    "Vamos agora fazer o mesmo para a resposta-reflexão:"
   ]
  },
  {
   "cell_type": "code",
   "execution_count": 39,
   "metadata": {},
   "outputs": [],
   "source": [
    "data_to_process = json_data[:3]"
   ]
  },
  {
   "cell_type": "code",
   "execution_count": 40,
   "metadata": {},
   "outputs": [],
   "source": [
    "def reflect_responses(json_data, client):\n",
    "    new_json_data = [] \n",
    "    \n",
    "    for entry in tqdm(json_data):\n",
    "        \n",
    "        if not entry[\"input\"]:\n",
    "            system_prompt, prompt = res_gen_prompt_no_input(ins=entry[\"instruction\"], outp=entry[\"output\"])\n",
    "            output = run_chatgpt(prompt=prompt, client=client, system_prompt=system_prompt)\n",
    "            new_response = extract_response(output)\n",
    "\n",
    "            if not len(new_response):\n",
    "                new_response = entry[\"output\"]\n",
    "                      \n",
    "            new_entry = {\"instruction\": entry[\"instruction\"], \"input\": \"\", \"output\": new_response[0]}\n",
    "            new_json_data.append(new_entry)\n",
    "\n",
    "        else:\n",
    "            system_prompt, prompt = res_gen_prompt_input(ins=entry[\"instruction\"], inp=entry[\"input\"], outp=entry[\"output\"])\n",
    "            output = run_chatgpt(prompt=prompt, client=client, system_prompt=system_prompt)\n",
    "            new_response = extract_response(output)\n",
    "\n",
    "            if not len(new_response):\n",
    "                new_response = entry[\"output\"]\n",
    "\n",
    "            new_entry = {\"instruction\": entry[\"instruction\"], \"input\": entry[\"input\"], \"output\": new_response[0]}\n",
    "            new_json_data.append(new_entry)\n",
    "\n",
    "    return new_json_data"
   ]
  },
  {
   "cell_type": "code",
   "execution_count": 41,
   "metadata": {},
   "outputs": [
    {
     "name": "stderr",
     "output_type": "stream",
     "text": [
      "100%|██████████| 3/3 [00:07<00:00,  2.35s/it]\n"
     ]
    }
   ],
   "source": [
    "new_json_data = reflect_responses(data_to_process, client)"
   ]
  },
  {
   "cell_type": "code",
   "execution_count": 42,
   "metadata": {},
   "outputs": [
    {
     "name": "stdout",
     "output_type": "stream",
     "text": [
      "{'instruction': 'Evaluate the following phrase by transforming it into the '\n",
      "                'spelling given.',\n",
      " 'input': 'freind --> friend',\n",
      " 'output': 'The input phrase \"freind\" contains a spelling error. The correct '\n",
      "           'transformation of this phrase is as follows: \"freind\" should be '\n",
      "           'transformed to \"friend.\" Therefore, the correct spelling is '\n",
      "           '\"friend.\"'}\n",
      "\n",
      "\n",
      "\n",
      "{'instruction': 'Edit the following sentence for grammar.',\n",
      " 'input': 'He go to the park every day.',\n",
      " 'output': 'The original sentence \"He go to the park every day\" contains a '\n",
      "           'grammatical error in the verb form. The correct form should be \"He '\n",
      "           'goes to the park every day.\" This is because the subject \"He\" is '\n",
      "           'third person singular, and in English, the verb \"to go\" changes to '\n",
      "           '\"goes\" when used with third person singular subjects. Therefore, '\n",
      "           'the corrected sentence is grammatically accurate and maintains the '\n",
      "           'original meaning.'}\n",
      "\n",
      "\n",
      "\n",
      "{'instruction': 'Convert 45 kilometers to meters.',\n",
      " 'input': '',\n",
      " 'output': 'To convert kilometers to meters, you can use the conversion factor '\n",
      "           'that 1 kilometer is equal to 1000 meters. Therefore, to convert 45 '\n",
      "           'kilometers to meters, you multiply 45 by 1000. \\n'\n",
      "           '\\n'\n",
      "           'So, 45 kilometers is equal to 45 x 1000 = 45000 meters. \\n'\n",
      "           '\\n'\n",
      "           'This means that 45 kilometers is the same distance as 45000 '\n",
      "           'meters. Understanding this conversion is useful in various '\n",
      "           'contexts, such as travel, sports, and scientific measurements.'}\n",
      "\n",
      "\n",
      "\n"
     ]
    }
   ],
   "source": [
    "for i in new_json_data[:3]:\n",
    "    pprint(i)\n",
    "    print(\"\\n\\n\")"
   ]
  },
  {
   "cell_type": "markdown",
   "metadata": {},
   "source": [
    "Vamos salvar o novo conjunto de dados:"
   ]
  },
  {
   "cell_type": "code",
   "execution_count": 43,
   "metadata": {},
   "outputs": [],
   "source": [
    "with open(\"response-reflected.json\", \"w\") as file:\n",
    "    json.dump(new_json_data, file, indent=4)"
   ]
  }
 ],
 "metadata": {
  "kernelspec": {
   "display_name": "venv_reflection",
   "language": "python",
   "name": "python3"
  },
  "language_info": {
   "codemirror_mode": {
    "name": "ipython",
    "version": 3
   },
   "file_extension": ".py",
   "mimetype": "text/x-python",
   "name": "python",
   "nbconvert_exporter": "python",
   "pygments_lexer": "ipython3",
   "version": "3.10.12"
  }
 },
 "nbformat": 4,
 "nbformat_minor": 2
}
